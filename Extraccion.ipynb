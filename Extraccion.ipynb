{
 "cells": [
  {
   "cell_type": "code",
   "execution_count": 1,
   "metadata": {},
   "outputs": [],
   "source": [
    "import yfinance as yf\n",
    "import pandas as pd\n",
    "from pandas_datareader import data as pdr\n",
    "import matplotlib.pyplot as plt"
   ]
  },
  {
   "cell_type": "code",
   "execution_count": 2,
   "metadata": {},
   "outputs": [],
   "source": [
    "tablas = pd.read_html('https://en.wikipedia.org/wiki/List_of_S%26P_500_companies')"
   ]
  },
  {
   "cell_type": "code",
   "execution_count": 3,
   "metadata": {},
   "outputs": [],
   "source": [
    "sypActual= tablas[0]\n",
    "changeSyp = tablas[1]"
   ]
  },
  {
   "cell_type": "code",
   "execution_count": 4,
   "metadata": {},
   "outputs": [],
   "source": [
    "tickers =list(sypActual.Symbol) \n",
    "start_date = \"2000-01-01\"\n",
    "end_date = \"2023-01-27\""
   ]
  },
  {
   "cell_type": "code",
   "execution_count": null,
   "metadata": {},
   "outputs": [],
   "source": [
    "sypActual.to_csv('syp.csv',index=False)\n",
    "changeSyp.to_csv('cambios_syp.csv',index=False)"
   ]
  },
  {
   "cell_type": "code",
   "execution_count": 6,
   "metadata": {},
   "outputs": [
    {
     "name": "stdout",
     "output_type": "stream",
     "text": [
      "[*********************100%***********************]  503 of 503 completed\n",
      "\n",
      "2 Failed downloads:\n",
      "- BF.B: No data found for this date range, symbol may be delisted\n",
      "- BRK.B: No timezone found, symbol may be delisted\n"
     ]
    }
   ],
   "source": [
    "tickers_total =list(sypActual.Symbol)\n",
    "data = yf.download(tickers_total, start=start_date, end=end_date)\n"
   ]
  },
  {
   "cell_type": "code",
   "execution_count": 7,
   "metadata": {},
   "outputs": [],
   "source": [
    "openM = pd.DataFrame(data['Open'].round())\n",
    "maxM =pd.DataFrame(data['High'].round())\n",
    "minnM =pd.DataFrame(data['Low'].round())\n",
    "closeM =pd.DataFrame(data['Close'].round())\n",
    "volumenM =pd.DataFrame(data['Volume'])"
   ]
  },
  {
   "cell_type": "code",
   "execution_count": 8,
   "metadata": {},
   "outputs": [],
   "source": [
    "openM.to_csv('apertura_syp.csv')\n",
    "maxM.to_csv('maximos_syp.csv')\n",
    "minnM.to_csv('minimos_syp.csv')\n",
    "closeM.to_csv('cierre_syp.csv')\n",
    "volumenM.to_csv('volumen_syp.csv')"
   ]
  },
  {
   "cell_type": "code",
   "execution_count": null,
   "metadata": {},
   "outputs": [],
   "source": [
    "prome= {}\n",
    "anios=[2018,2019,2020,2021,2022,2023]\n",
    "for anio in anios:\n",
    "    prome[anio]= cierre[cierre.index.year ==anio].transpose().mean(axis=1)\n",
    "prome['x_23']= cierre.transpose().mean(axis=1)\n",
    "prome['actual']= cierre[cierre.index.year ==2023].transpose().iloc[:,-1]\n",
    "datos= pd.DataFrame(prome)\n",
    "datos"
   ]
  }
 ],
 "metadata": {
  "kernelspec": {
   "display_name": "Python 3.10.5 64-bit",
   "language": "python",
   "name": "python3"
  },
  "language_info": {
   "codemirror_mode": {
    "name": "ipython",
    "version": 3
   },
   "file_extension": ".py",
   "mimetype": "text/x-python",
   "name": "python",
   "nbconvert_exporter": "python",
   "pygments_lexer": "ipython3",
   "version": "3.10.5"
  },
  "orig_nbformat": 4,
  "vscode": {
   "interpreter": {
    "hash": "c63d8c7d738c2960218a10995aedf0a7f67a49a231e71037adf0440953cdb45b"
   }
  }
 },
 "nbformat": 4,
 "nbformat_minor": 2
}
